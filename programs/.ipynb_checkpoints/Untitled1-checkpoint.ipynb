{
 "cells": [
  {
   "cell_type": "code",
   "execution_count": null,
   "id": "labeled-protest",
   "metadata": {},
   "outputs": [],
   "source": [
    "import re"
   ]
  },
  {
   "cell_type": "code",
   "execution_count": 43,
   "id": "thousand-overview",
   "metadata": {},
   "outputs": [],
   "source": [
    "def authentication(password):\n",
    "    f = open('../key/apikey.txt', 'r', encoding='UTF-8')\n",
    "    created_key = f.read()\n",
    "    f.close()\n",
    "    pattern = '(\\d+)([a-z]*)'\n",
    "    nums = re.findall(pattern, created_key)\n",
    "    return ''.join([str(int(a[0])-password) + ('-' if a[1]=='' else a[1]) for a in nums])"
   ]
  },
  {
   "cell_type": "code",
   "execution_count": 44,
   "id": "republican-heritage",
   "metadata": {},
   "outputs": [
    {
     "data": {
      "text/plain": [
       "'23a6f0a8-1f3f4ced9f22-87207109fcfc'"
      ]
     },
     "execution_count": 44,
     "metadata": {},
     "output_type": "execute_result"
    }
   ],
   "source": [
    "authentication(123)"
   ]
  },
  {
   "cell_type": "code",
   "execution_count": null,
   "id": "framed-analyst",
   "metadata": {},
   "outputs": [],
   "source": []
  }
 ],
 "metadata": {
  "kernelspec": {
   "display_name": "Python 3",
   "language": "python",
   "name": "python3"
  },
  "language_info": {
   "codemirror_mode": {
    "name": "ipython",
    "version": 3
   },
   "file_extension": ".py",
   "mimetype": "text/x-python",
   "name": "python",
   "nbconvert_exporter": "python",
   "pygments_lexer": "ipython3",
   "version": "3.9.1"
  }
 },
 "nbformat": 4,
 "nbformat_minor": 5
}
