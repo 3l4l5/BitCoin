{
 "cells": [
  {
   "cell_type": "code",
   "execution_count": 1,
   "id": "infinite-sending",
   "metadata": {},
   "outputs": [],
   "source": [
    "a = \"y100\"\n",
    "a0 = a[0]\n",
    "a1 = a[1:]"
   ]
  },
  {
   "cell_type": "code",
   "execution_count": 2,
   "id": "alone-ballet",
   "metadata": {},
   "outputs": [
    {
     "data": {
      "text/plain": [
       "('y', '100')"
      ]
     },
     "execution_count": 2,
     "metadata": {},
     "output_type": "execute_result"
    }
   ],
   "source": [
    "a0, a1"
   ]
  },
  {
   "cell_type": "code",
   "execution_count": 7,
   "id": "departmental-swiss",
   "metadata": {},
   "outputs": [
    {
     "data": {
      "text/plain": [
       "'2021/02/12 23:08:49'"
      ]
     },
     "execution_count": 7,
     "metadata": {},
     "output_type": "execute_result"
    }
   ],
   "source": [
    "import datetime\n",
    "u_time = 1613138929829\n",
    "datetime.datetime.fromtimestamp(int(u_time/1000)).strftime(\"%Y/%m/%d %H:%M:%S\")"
   ]
  },
  {
   "cell_type": "code",
   "execution_count": null,
   "id": "latin-runner",
   "metadata": {},
   "outputs": [],
   "source": []
  }
 ],
 "metadata": {
  "kernelspec": {
   "display_name": "Python 3",
   "language": "python",
   "name": "python3"
  },
  "language_info": {
   "codemirror_mode": {
    "name": "ipython",
    "version": 3
   },
   "file_extension": ".py",
   "mimetype": "text/x-python",
   "name": "python",
   "nbconvert_exporter": "python",
   "pygments_lexer": "ipython3",
   "version": "3.8.5"
  }
 },
 "nbformat": 4,
 "nbformat_minor": 5
}
