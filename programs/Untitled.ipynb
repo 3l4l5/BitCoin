{
 "cells": [
  {
   "cell_type": "code",
   "execution_count": 14,
   "metadata": {},
   "outputs": [],
   "source": [
    "f = open('../key/apikey.txt', 'r', encoding='UTF-8')\n",
    "API_KEY = f.read()\n",
    "f.close()\n",
    "f = open('../key/secretkey.txt', 'r', encoding='UTF-8')\n",
    "API_SECRET = f.read()\n",
    "f.close()"
   ]
  },
  {
   "cell_type": "code",
   "execution_count": 15,
   "metadata": {},
   "outputs": [],
   "source": [
    "import re"
   ]
  },
  {
   "cell_type": "code",
   "execution_count": 16,
   "metadata": {},
   "outputs": [],
   "source": [
    "key1 = API_KEY\n",
    "key2 = API_SECRET"
   ]
  },
  {
   "cell_type": "code",
   "execution_count": 17,
   "metadata": {},
   "outputs": [
    {
     "data": {
      "text/plain": [
       "'23a6f0a8-1f3f-4ced-9f22-87207109fcfc'"
      ]
     },
     "execution_count": 17,
     "metadata": {},
     "output_type": "execute_result"
    }
   ],
   "source": [
    "API_KEY"
   ]
  },
  {
   "cell_type": "code",
   "execution_count": 18,
   "metadata": {},
   "outputs": [],
   "source": [
    "password = 9021\n",
    "pattern = '(\\d+)([a-z]*)(-?)'\n",
    "nums = re.findall(pattern, key1)\n",
    "key1 = ''.join([str(int(a[0])+password) + a[1] + a[2] for a in nums])"
   ]
  },
  {
   "cell_type": "code",
   "execution_count": 19,
   "metadata": {},
   "outputs": [
    {
     "data": {
      "text/plain": [
       "[('23', 'a', ''),\n",
       " ('6', 'f', ''),\n",
       " ('0', 'a', ''),\n",
       " ('8', '', '-'),\n",
       " ('1', 'f', ''),\n",
       " ('3', 'f', '-'),\n",
       " ('4', 'ced', '-'),\n",
       " ('9', 'f', ''),\n",
       " ('22', '', '-'),\n",
       " ('87207109', 'fcfc', '')]"
      ]
     },
     "execution_count": 19,
     "metadata": {},
     "output_type": "execute_result"
    }
   ],
   "source": [
    "nums"
   ]
  },
  {
   "cell_type": "markdown",
   "metadata": {},
   "source": [
    "23a6f0a8-1f3f-4ced-9f22-87207109fcfc"
   ]
  },
  {
   "cell_type": "code",
   "execution_count": 20,
   "metadata": {},
   "outputs": [
    {
     "data": {
      "text/plain": [
       "'9044a9027f9021a9029-9022f9024f-9025ced-9030f9043-87216130fcfc'"
      ]
     },
     "execution_count": 20,
     "metadata": {},
     "output_type": "execute_result"
    }
   ],
   "source": [
    "key1"
   ]
  },
  {
   "cell_type": "code",
   "execution_count": 84,
   "metadata": {},
   "outputs": [],
   "source": [
    "pattern = '([a-z]*)(\\d+)'\n",
    "nums = re.findall(pattern, key2)\n",
    "key2 = ''.join([a[0]+str(int(a[1])+password) for a in nums])"
   ]
  },
  {
   "cell_type": "code",
   "execution_count": 85,
   "metadata": {},
   "outputs": [
    {
     "data": {
      "text/plain": [
       "[('fe', '322'),\n",
       " ('adc', '5'),\n",
       " ('a', '422'),\n",
       " ('c', '808636'),\n",
       " ('c', '1'),\n",
       " ('fbbd', '9889'),\n",
       " ('d', '952'),\n",
       " ('c', '89'),\n",
       " ('a', '7'),\n",
       " ('f', '55'),\n",
       " ('de', '9'),\n",
       " ('e', '5153'),\n",
       " ('a', '7405068'),\n",
       " ('af', '7'),\n",
       " ('f', '52')]"
      ]
     },
     "execution_count": 85,
     "metadata": {},
     "output_type": "execute_result"
    }
   ],
   "source": [
    "nums"
   ]
  },
  {
   "cell_type": "code",
   "execution_count": 86,
   "metadata": {},
   "outputs": [
    {
     "data": {
      "text/plain": [
       "'fe9343adc9026a9443c817657c9022fbbd18910d9973c9110a9028f9076de9030e14174a7414089af9028f9073'"
      ]
     },
     "execution_count": 86,
     "metadata": {},
     "output_type": "execute_result"
    }
   ],
   "source": [
    "key2"
   ]
  },
  {
   "cell_type": "code",
   "execution_count": 21,
   "metadata": {},
   "outputs": [],
   "source": [
    "from authentication import authentication"
   ]
  },
  {
   "cell_type": "code",
   "execution_count": 22,
   "metadata": {},
   "outputs": [],
   "source": [
    "password = 9021\n",
    "API_KEY, API_SECRET = authentication(int(password))"
   ]
  },
  {
   "cell_type": "code",
   "execution_count": 23,
   "metadata": {},
   "outputs": [
    {
     "data": {
      "text/plain": [
       "True"
      ]
     },
     "execution_count": 23,
     "metadata": {},
     "output_type": "execute_result"
    }
   ],
   "source": [
    "API_KEY == \"23a6f0a8-1f3f-4ced-9f22-87207109fcfc\""
   ]
  },
  {
   "cell_type": "code",
   "execution_count": 24,
   "metadata": {},
   "outputs": [
    {
     "data": {
      "text/plain": [
       "True"
      ]
     },
     "execution_count": 24,
     "metadata": {},
     "output_type": "execute_result"
    }
   ],
   "source": [
    "API_SECRET == \"fe322adc5a422c808636c1fbbd9889d952c89a7f55de9e5153a7405068af7f52\""
   ]
  },
  {
   "cell_type": "code",
   "execution_count": 6,
   "metadata": {},
   "outputs": [
    {
     "data": {
      "text/plain": [
       "'23a6f0a8-1f3-4-9f22-87207109fcfc'"
      ]
     },
     "execution_count": 6,
     "metadata": {},
     "output_type": "execute_result"
    }
   ],
   "source": [
    "API_KEY"
   ]
  },
  {
   "cell_type": "code",
   "execution_count": 25,
   "metadata": {},
   "outputs": [
    {
     "data": {
      "text/plain": [
       "4"
      ]
     },
     "execution_count": 25,
     "metadata": {},
     "output_type": "execute_result"
    }
   ],
   "source": [
    "len(\"asdf\")"
   ]
  },
  {
   "cell_type": "code",
   "execution_count": 28,
   "metadata": {},
   "outputs": [
    {
     "name": "stdout",
     "output_type": "stream",
     "text": [
      "2021年02月16日 18:43:15\n"
     ]
    }
   ],
   "source": [
    "import datetime\n",
    "dt_now = datetime.datetime.now()\n",
    "print(dt_now.strftime('%Y年%m月%d日 %H:%M:%S'))"
   ]
  },
  {
   "cell_type": "code",
   "execution_count": null,
   "metadata": {},
   "outputs": [],
   "source": []
  }
 ],
 "metadata": {
  "kernelspec": {
   "display_name": "Python 3",
   "language": "python",
   "name": "python3"
  },
  "language_info": {
   "codemirror_mode": {
    "name": "ipython",
    "version": 3
   },
   "file_extension": ".py",
   "mimetype": "text/x-python",
   "name": "python",
   "nbconvert_exporter": "python",
   "pygments_lexer": "ipython3",
   "version": "3.8.5"
  }
 },
 "nbformat": 4,
 "nbformat_minor": 4
}
