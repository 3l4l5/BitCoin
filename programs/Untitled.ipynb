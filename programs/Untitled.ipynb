{
 "cells": [
  {
   "cell_type": "code",
   "execution_count": 6,
   "metadata": {},
   "outputs": [],
   "source": [
    "import numpy as np\n",
    "import pandas as pd\n",
    "import matplotlib.pyplot as plt\n",
    "import os, json\n",
    "# python_bitbankccのパッケージをインポート\n",
    "import python_bitbankcc\n",
    "from authentication import authentication"
   ]
  },
  {
   "cell_type": "code",
   "execution_count": 7,
   "metadata": {},
   "outputs": [],
   "source": [
    "class Trade:\n",
    "    def __init__(self, buy_sell):\n",
    "        # 保存してあるキーを読み込み\n",
    "        f = open('/../key/apikey.txt', 'r', encoding='UTF-8')\n",
    "        api_key = f.read()\n",
    "        f.close()\n",
    "        f = open('/../key/secretkey.txt', 'r', encoding='UTF-8')\n",
    "        secret_key = f.read()\n",
    "        f.close()\n",
    "        \n",
    "        # APIキー，シークレットの設定\n",
    "        API_KEY = api_key\n",
    "        API_SECRET = secret_key\n",
    "        \n",
    "        # APIの取得\n",
    "        self.pub = python_bitbankcc.public()\n",
    "        self.prv = python_bitbankcc.private(API_KEY, API_SECRET)\n",
    "        \n",
    "        # 各データの取得\n",
    "        self.value = self.pub.get_ticker( 'eth_jpy' )\n",
    "        self.buy = int(self.value['buy'])\n",
    "        self.sell = int(self.value['sell'])\n",
    "        self.buy_sell = buy_sell\n",
    "        \n",
    "        # 購入する値段を決定\n",
    "        self.price_decition()\n",
    "\n",
    "    def price_decition(self):\n",
    "        self.buy_price = self.buy+ 3000\n",
    "    \n",
    "    def buy_or_sell(self, pair='eth_jpy', amount='0.0001'):\n",
    "        buy_sell = 'buy' if self.buy_sell==1 else 'sell' if self.buy_sell==2 else 'None'\n",
    "        value = self.prv.order(\n",
    "           pair, # ペア\n",
    "           self.buy_price, # 価格\n",
    "           amount, # 注文枚数\n",
    "           buy_sell, # 注文サイド\n",
    "           'market' # 注文タイプ\n",
    "        )\n",
    "        print(json.dumps(value))"
   ]
  },
  {
   "cell_type": "code",
   "execution_count": 8,
   "metadata": {},
   "outputs": [
    {
     "name": "stdin",
     "output_type": "stream",
     "text": [
      " 123\n"
     ]
    }
   ],
   "source": [
    "password = input()\n",
    "API_KEY, API_SECRET = authentication(int(password))"
   ]
  },
  {
   "cell_type": "code",
   "execution_count": 3,
   "metadata": {},
   "outputs": [
    {
     "ename": "FileNotFoundError",
     "evalue": "[Errno 2] No such file or directory: '../../key/apikey.txt'",
     "output_type": "error",
     "traceback": [
      "\u001b[0;31m---------------------------------------------------------------------------\u001b[0m",
      "\u001b[0;31mFileNotFoundError\u001b[0m                         Traceback (most recent call last)",
      "\u001b[0;32m<ipython-input-3-4b363d3a59e6>\u001b[0m in \u001b[0;36m<module>\u001b[0;34m\u001b[0m\n\u001b[0;32m----> 1\u001b[0;31m \u001b[0mt\u001b[0m \u001b[0;34m=\u001b[0m \u001b[0mTrade\u001b[0m\u001b[0;34m(\u001b[0m\u001b[0;36m1\u001b[0m\u001b[0;34m)\u001b[0m\u001b[0;34m\u001b[0m\u001b[0;34m\u001b[0m\u001b[0m\n\u001b[0m",
      "\u001b[0;32m<ipython-input-2-64b96e6fe1cc>\u001b[0m in \u001b[0;36m__init__\u001b[0;34m(self, buy_sell)\u001b[0m\n\u001b[1;32m      2\u001b[0m     \u001b[0;32mdef\u001b[0m \u001b[0m__init__\u001b[0m\u001b[0;34m(\u001b[0m\u001b[0mself\u001b[0m\u001b[0;34m,\u001b[0m \u001b[0mbuy_sell\u001b[0m\u001b[0;34m)\u001b[0m\u001b[0;34m:\u001b[0m\u001b[0;34m\u001b[0m\u001b[0;34m\u001b[0m\u001b[0m\n\u001b[1;32m      3\u001b[0m         \u001b[0;31m# 保存してあるキーを読み込み\u001b[0m\u001b[0;34m\u001b[0m\u001b[0;34m\u001b[0m\u001b[0;34m\u001b[0m\u001b[0m\n\u001b[0;32m----> 4\u001b[0;31m         \u001b[0mf\u001b[0m \u001b[0;34m=\u001b[0m \u001b[0mopen\u001b[0m\u001b[0;34m(\u001b[0m\u001b[0;34m'../../key/apikey.txt'\u001b[0m\u001b[0;34m,\u001b[0m \u001b[0;34m'r'\u001b[0m\u001b[0;34m,\u001b[0m \u001b[0mencoding\u001b[0m\u001b[0;34m=\u001b[0m\u001b[0;34m'UTF-8'\u001b[0m\u001b[0;34m)\u001b[0m\u001b[0;34m\u001b[0m\u001b[0;34m\u001b[0m\u001b[0m\n\u001b[0m\u001b[1;32m      5\u001b[0m         \u001b[0mapi_key\u001b[0m \u001b[0;34m=\u001b[0m \u001b[0mf\u001b[0m\u001b[0;34m.\u001b[0m\u001b[0mread\u001b[0m\u001b[0;34m(\u001b[0m\u001b[0;34m)\u001b[0m\u001b[0;34m\u001b[0m\u001b[0;34m\u001b[0m\u001b[0m\n\u001b[1;32m      6\u001b[0m         \u001b[0mf\u001b[0m\u001b[0;34m.\u001b[0m\u001b[0mclose\u001b[0m\u001b[0;34m(\u001b[0m\u001b[0;34m)\u001b[0m\u001b[0;34m\u001b[0m\u001b[0;34m\u001b[0m\u001b[0m\n",
      "\u001b[0;31mFileNotFoundError\u001b[0m: [Errno 2] No such file or directory: '../../key/apikey.txt'"
     ]
    }
   ],
   "source": [
    "t = Trade(1)"
   ]
  },
  {
   "cell_type": "code",
   "execution_count": 23,
   "metadata": {},
   "outputs": [
    {
     "data": {
      "text/plain": [
       "136967"
      ]
     },
     "execution_count": 23,
     "metadata": {},
     "output_type": "execute_result"
    }
   ],
   "source": [
    "t.buy"
   ]
  },
  {
   "cell_type": "code",
   "execution_count": 20,
   "metadata": {},
   "outputs": [
    {
     "ename": "Exception",
     "evalue": "エラーコード: 60004 内容: 指定した数量がしきい値を下回っています",
     "output_type": "error",
     "traceback": [
      "\u001b[0;31m---------------------------------------------------------------------------\u001b[0m",
      "\u001b[0;31mException\u001b[0m                                 Traceback (most recent call last)",
      "\u001b[0;32m<ipython-input-20-b8d8fa86549e>\u001b[0m in \u001b[0;36m<module>\u001b[0;34m\u001b[0m\n\u001b[0;32m----> 1\u001b[0;31m \u001b[0mt\u001b[0m\u001b[0;34m.\u001b[0m\u001b[0mbuy_or_sell\u001b[0m\u001b[0;34m(\u001b[0m\u001b[0;34m)\u001b[0m\u001b[0;34m\u001b[0m\u001b[0;34m\u001b[0m\u001b[0m\n\u001b[0m",
      "\u001b[0;32m<ipython-input-17-32d3365b6ea6>\u001b[0m in \u001b[0;36mbuy_or_sell\u001b[0;34m(self, pair, amount)\u001b[0m\n\u001b[1;32m     31\u001b[0m     \u001b[0;32mdef\u001b[0m \u001b[0mbuy_or_sell\u001b[0m\u001b[0;34m(\u001b[0m\u001b[0mself\u001b[0m\u001b[0;34m,\u001b[0m \u001b[0mpair\u001b[0m\u001b[0;34m=\u001b[0m\u001b[0;34m'eth_jpy'\u001b[0m\u001b[0;34m,\u001b[0m \u001b[0mamount\u001b[0m\u001b[0;34m=\u001b[0m\u001b[0;34m'0.00001'\u001b[0m\u001b[0;34m)\u001b[0m\u001b[0;34m:\u001b[0m\u001b[0;34m\u001b[0m\u001b[0;34m\u001b[0m\u001b[0m\n\u001b[1;32m     32\u001b[0m         \u001b[0mbuy_sell\u001b[0m \u001b[0;34m=\u001b[0m \u001b[0;34m'buy'\u001b[0m \u001b[0;32mif\u001b[0m \u001b[0mself\u001b[0m\u001b[0;34m.\u001b[0m\u001b[0mbuy_sell\u001b[0m\u001b[0;34m==\u001b[0m\u001b[0;36m1\u001b[0m \u001b[0;32melse\u001b[0m \u001b[0;34m'sell'\u001b[0m \u001b[0;32mif\u001b[0m \u001b[0mself\u001b[0m\u001b[0;34m.\u001b[0m\u001b[0mbuy_sell\u001b[0m\u001b[0;34m==\u001b[0m\u001b[0;36m2\u001b[0m \u001b[0;32melse\u001b[0m \u001b[0;34m'None'\u001b[0m\u001b[0;34m\u001b[0m\u001b[0;34m\u001b[0m\u001b[0m\n\u001b[0;32m---> 33\u001b[0;31m         value = self.prv.order(\n\u001b[0m\u001b[1;32m     34\u001b[0m            \u001b[0mpair\u001b[0m\u001b[0;34m,\u001b[0m \u001b[0;31m# ペア\u001b[0m\u001b[0;34m\u001b[0m\u001b[0;34m\u001b[0m\u001b[0m\n\u001b[1;32m     35\u001b[0m            \u001b[0mself\u001b[0m\u001b[0;34m.\u001b[0m\u001b[0mbuy_price\u001b[0m\u001b[0;34m,\u001b[0m \u001b[0;31m# 価格\u001b[0m\u001b[0;34m\u001b[0m\u001b[0;34m\u001b[0m\u001b[0m\n",
      "\u001b[0;32m/anaconda3/envs/bitcoin/lib/python3.9/site-packages/python_bitbankcc/private_api.py\u001b[0m in \u001b[0;36morder\u001b[0;34m(self, pair, price, amount, side, order_type)\u001b[0m\n\u001b[1;32m     93\u001b[0m \u001b[0;34m\u001b[0m\u001b[0m\n\u001b[1;32m     94\u001b[0m     \u001b[0;32mdef\u001b[0m \u001b[0morder\u001b[0m\u001b[0;34m(\u001b[0m\u001b[0mself\u001b[0m\u001b[0;34m,\u001b[0m \u001b[0mpair\u001b[0m\u001b[0;34m,\u001b[0m \u001b[0mprice\u001b[0m\u001b[0;34m,\u001b[0m \u001b[0mamount\u001b[0m\u001b[0;34m,\u001b[0m \u001b[0mside\u001b[0m\u001b[0;34m,\u001b[0m \u001b[0morder_type\u001b[0m\u001b[0;34m)\u001b[0m\u001b[0;34m:\u001b[0m\u001b[0;34m\u001b[0m\u001b[0;34m\u001b[0m\u001b[0m\n\u001b[0;32m---> 95\u001b[0;31m         return self._post_query('/user/spot/order', {\n\u001b[0m\u001b[1;32m     96\u001b[0m             \u001b[0;34m'pair'\u001b[0m\u001b[0;34m:\u001b[0m \u001b[0mpair\u001b[0m\u001b[0;34m,\u001b[0m\u001b[0;34m\u001b[0m\u001b[0;34m\u001b[0m\u001b[0m\n\u001b[1;32m     97\u001b[0m             \u001b[0;34m'price'\u001b[0m\u001b[0;34m:\u001b[0m \u001b[0mprice\u001b[0m\u001b[0;34m,\u001b[0m\u001b[0;34m\u001b[0m\u001b[0;34m\u001b[0m\u001b[0m\n",
      "\u001b[0;32m/anaconda3/envs/bitcoin/lib/python3.9/site-packages/python_bitbankcc/private_api.py\u001b[0m in \u001b[0;36m_post_query\u001b[0;34m(self, path, query)\u001b[0m\n\u001b[1;32m     74\u001b[0m         \u001b[0muri\u001b[0m \u001b[0;34m=\u001b[0m \u001b[0mself\u001b[0m\u001b[0;34m.\u001b[0m\u001b[0mend_point\u001b[0m \u001b[0;34m+\u001b[0m \u001b[0mpath\u001b[0m\u001b[0;34m\u001b[0m\u001b[0;34m\u001b[0m\u001b[0m\n\u001b[1;32m     75\u001b[0m         \u001b[0mresponse\u001b[0m \u001b[0;34m=\u001b[0m \u001b[0mrequests\u001b[0m\u001b[0;34m.\u001b[0m\u001b[0mpost\u001b[0m\u001b[0;34m(\u001b[0m\u001b[0muri\u001b[0m\u001b[0;34m,\u001b[0m \u001b[0mdata\u001b[0m\u001b[0;34m=\u001b[0m\u001b[0mdata\u001b[0m\u001b[0;34m,\u001b[0m \u001b[0mheaders\u001b[0m\u001b[0;34m=\u001b[0m\u001b[0mheaders\u001b[0m\u001b[0;34m)\u001b[0m\u001b[0;34m\u001b[0m\u001b[0;34m\u001b[0m\u001b[0m\n\u001b[0;32m---> 76\u001b[0;31m         \u001b[0;32mreturn\u001b[0m \u001b[0merror_parser\u001b[0m\u001b[0;34m(\u001b[0m\u001b[0mresponse\u001b[0m\u001b[0;34m.\u001b[0m\u001b[0mjson\u001b[0m\u001b[0;34m(\u001b[0m\u001b[0;34m)\u001b[0m\u001b[0;34m)\u001b[0m\u001b[0;34m\u001b[0m\u001b[0;34m\u001b[0m\u001b[0m\n\u001b[0m\u001b[1;32m     77\u001b[0m \u001b[0;34m\u001b[0m\u001b[0m\n\u001b[1;32m     78\u001b[0m     \u001b[0;32mdef\u001b[0m \u001b[0mget_asset\u001b[0m\u001b[0;34m(\u001b[0m\u001b[0mself\u001b[0m\u001b[0;34m)\u001b[0m\u001b[0;34m:\u001b[0m\u001b[0;34m\u001b[0m\u001b[0;34m\u001b[0m\u001b[0m\n",
      "\u001b[0;32m/anaconda3/envs/bitcoin/lib/python3.9/site-packages/python_bitbankcc/utils.py\u001b[0m in \u001b[0;36merror_parser\u001b[0;34m(json_dict)\u001b[0m\n\u001b[1;32m     31\u001b[0m         \u001b[0mcontents\u001b[0m \u001b[0;34m=\u001b[0m \u001b[0mERROR_CODES\u001b[0m\u001b[0;34m[\u001b[0m\u001b[0mcode\u001b[0m\u001b[0;34m]\u001b[0m \u001b[0;32mif\u001b[0m \u001b[0mcode\u001b[0m \u001b[0;32min\u001b[0m \u001b[0mERROR_CODES\u001b[0m \u001b[0;32melse\u001b[0m \u001b[0;34m'不明なエラーです。サポートにお問い合わせ下さい'\u001b[0m\u001b[0;34m\u001b[0m\u001b[0;34m\u001b[0m\u001b[0m\n\u001b[1;32m     32\u001b[0m         \u001b[0mmessage\u001b[0m \u001b[0;34m=\u001b[0m \u001b[0;34m'エラーコード: '\u001b[0m \u001b[0;34m+\u001b[0m \u001b[0mcode\u001b[0m \u001b[0;34m+\u001b[0m \u001b[0;34m' 内容: '\u001b[0m \u001b[0;34m+\u001b[0m \u001b[0mcontents\u001b[0m\u001b[0;34m\u001b[0m\u001b[0;34m\u001b[0m\u001b[0m\n\u001b[0;32m---> 33\u001b[0;31m         \u001b[0;32mraise\u001b[0m \u001b[0mException\u001b[0m\u001b[0;34m(\u001b[0m\u001b[0mmessage\u001b[0m\u001b[0;34m)\u001b[0m\u001b[0;34m\u001b[0m\u001b[0;34m\u001b[0m\u001b[0m\n\u001b[0m\u001b[1;32m     34\u001b[0m \u001b[0;34m\u001b[0m\u001b[0m\n\u001b[1;32m     35\u001b[0m ERROR_CODES = {\n",
      "\u001b[0;31mException\u001b[0m: エラーコード: 60004 内容: 指定した数量がしきい値を下回っています"
     ]
    }
   ],
   "source": [
    "t.buy_or_sell()"
   ]
  },
  {
   "cell_type": "code",
   "execution_count": 79,
   "metadata": {},
   "outputs": [
    {
     "data": {
      "text/plain": [
       "2"
      ]
     },
     "execution_count": 79,
     "metadata": {},
     "output_type": "execute_result"
    }
   ],
   "source": [
    "test = 2\n",
    "a = 1 if test==1 else 2 if test==2 else 3\n",
    "a"
   ]
  },
  {
   "cell_type": "code",
   "execution_count": 95,
   "metadata": {},
   "outputs": [],
   "source": [
    "class Trade:\n",
    "    def __init__(self, buy_sell):\n",
    "        self.pub = python_bitbankcc.public()\n",
    "        self.value = self.pub.get_ticker( 'eth_jpy' )\n",
    "        self.buy = int(self.value['buy'])\n",
    "        self.sell = int(self.value['sell'])\n",
    "        self.buy_sell = buy_sell\n",
    "        \n",
    "        self.price_decition()\n",
    "        self.buy_or_sell()\n",
    "\n",
    "    def price_decition(self):\n",
    "        self.buy_price = self.sell + 3000\n",
    "    \n",
    "    def buy_or_sell(self, pair='eth_jpy', amount='0.0001'):\n",
    "        buy_sell = 'buy' if self.buy_sell==1 else 'sell' if self.buy_sell==2 else 'None'\n",
    "        value = prv.order(\n",
    "           pair, # ペア\n",
    "           self.buy_price, # 価格\n",
    "           amount, # 注文枚数\n",
    "           buy_sell, # 注文サイド\n",
    "           'market' # 注文タイプ\n",
    "        )\n",
    "        print(json.dumps(value))"
   ]
  },
  {
   "cell_type": "code",
   "execution_count": 96,
   "metadata": {},
   "outputs": [
    {
     "ename": "Exception",
     "evalue": "エラーコード: 60002 内容: 成行買い注文の数量上限を上回っています",
     "output_type": "error",
     "traceback": [
      "\u001b[0;31m---------------------------------------------------------------------------\u001b[0m",
      "\u001b[0;31mException\u001b[0m                                 Traceback (most recent call last)",
      "\u001b[0;32m<ipython-input-96-4b363d3a59e6>\u001b[0m in \u001b[0;36m<module>\u001b[0;34m\u001b[0m\n\u001b[0;32m----> 1\u001b[0;31m \u001b[0mt\u001b[0m \u001b[0;34m=\u001b[0m \u001b[0mTrade\u001b[0m\u001b[0;34m(\u001b[0m\u001b[0;36m1\u001b[0m\u001b[0;34m)\u001b[0m\u001b[0;34m\u001b[0m\u001b[0;34m\u001b[0m\u001b[0m\n\u001b[0m",
      "\u001b[0;32m<ipython-input-95-5aec31d3d2f2>\u001b[0m in \u001b[0;36m__init__\u001b[0;34m(self, buy_sell)\u001b[0m\n\u001b[1;32m      8\u001b[0m \u001b[0;34m\u001b[0m\u001b[0m\n\u001b[1;32m      9\u001b[0m         \u001b[0mself\u001b[0m\u001b[0;34m.\u001b[0m\u001b[0mprice_decition\u001b[0m\u001b[0;34m(\u001b[0m\u001b[0;34m)\u001b[0m\u001b[0;34m\u001b[0m\u001b[0;34m\u001b[0m\u001b[0m\n\u001b[0;32m---> 10\u001b[0;31m         \u001b[0mself\u001b[0m\u001b[0;34m.\u001b[0m\u001b[0mbuy_or_sell\u001b[0m\u001b[0;34m(\u001b[0m\u001b[0;34m)\u001b[0m\u001b[0;34m\u001b[0m\u001b[0;34m\u001b[0m\u001b[0m\n\u001b[0m\u001b[1;32m     11\u001b[0m \u001b[0;34m\u001b[0m\u001b[0m\n\u001b[1;32m     12\u001b[0m     \u001b[0;32mdef\u001b[0m \u001b[0mprice_decition\u001b[0m\u001b[0;34m(\u001b[0m\u001b[0mself\u001b[0m\u001b[0;34m)\u001b[0m\u001b[0;34m:\u001b[0m\u001b[0;34m\u001b[0m\u001b[0;34m\u001b[0m\u001b[0m\n",
      "\u001b[0;32m<ipython-input-95-5aec31d3d2f2>\u001b[0m in \u001b[0;36mbuy_or_sell\u001b[0;34m(self, pair, amount)\u001b[0m\n\u001b[1;32m     15\u001b[0m     \u001b[0;32mdef\u001b[0m \u001b[0mbuy_or_sell\u001b[0m\u001b[0;34m(\u001b[0m\u001b[0mself\u001b[0m\u001b[0;34m,\u001b[0m \u001b[0mpair\u001b[0m\u001b[0;34m=\u001b[0m\u001b[0;34m'eth_jpy'\u001b[0m\u001b[0;34m,\u001b[0m \u001b[0mamount\u001b[0m\u001b[0;34m=\u001b[0m\u001b[0;34m'0.0001'\u001b[0m\u001b[0;34m)\u001b[0m\u001b[0;34m:\u001b[0m\u001b[0;34m\u001b[0m\u001b[0;34m\u001b[0m\u001b[0m\n\u001b[1;32m     16\u001b[0m         \u001b[0mbuy_sell\u001b[0m \u001b[0;34m=\u001b[0m \u001b[0;34m'buy'\u001b[0m \u001b[0;32mif\u001b[0m \u001b[0mself\u001b[0m\u001b[0;34m.\u001b[0m\u001b[0mbuy_sell\u001b[0m\u001b[0;34m==\u001b[0m\u001b[0;36m1\u001b[0m \u001b[0;32melse\u001b[0m \u001b[0;34m'sell'\u001b[0m \u001b[0;32mif\u001b[0m \u001b[0mself\u001b[0m\u001b[0;34m.\u001b[0m\u001b[0mbuy_sell\u001b[0m\u001b[0;34m==\u001b[0m\u001b[0;36m2\u001b[0m \u001b[0;32melse\u001b[0m \u001b[0;34m'None'\u001b[0m\u001b[0;34m\u001b[0m\u001b[0;34m\u001b[0m\u001b[0m\n\u001b[0;32m---> 17\u001b[0;31m         value = prv.order(\n\u001b[0m\u001b[1;32m     18\u001b[0m            \u001b[0mpair\u001b[0m\u001b[0;34m,\u001b[0m \u001b[0;31m# ペア\u001b[0m\u001b[0;34m\u001b[0m\u001b[0;34m\u001b[0m\u001b[0m\n\u001b[1;32m     19\u001b[0m            \u001b[0mself\u001b[0m\u001b[0;34m.\u001b[0m\u001b[0mbuy_price\u001b[0m\u001b[0;34m,\u001b[0m \u001b[0;31m# 価格\u001b[0m\u001b[0;34m\u001b[0m\u001b[0;34m\u001b[0m\u001b[0m\n",
      "\u001b[0;32m/anaconda3/envs/bitcoin/lib/python3.9/site-packages/python_bitbankcc/private_api.py\u001b[0m in \u001b[0;36morder\u001b[0;34m(self, pair, price, amount, side, order_type)\u001b[0m\n\u001b[1;32m     93\u001b[0m \u001b[0;34m\u001b[0m\u001b[0m\n\u001b[1;32m     94\u001b[0m     \u001b[0;32mdef\u001b[0m \u001b[0morder\u001b[0m\u001b[0;34m(\u001b[0m\u001b[0mself\u001b[0m\u001b[0;34m,\u001b[0m \u001b[0mpair\u001b[0m\u001b[0;34m,\u001b[0m \u001b[0mprice\u001b[0m\u001b[0;34m,\u001b[0m \u001b[0mamount\u001b[0m\u001b[0;34m,\u001b[0m \u001b[0mside\u001b[0m\u001b[0;34m,\u001b[0m \u001b[0morder_type\u001b[0m\u001b[0;34m)\u001b[0m\u001b[0;34m:\u001b[0m\u001b[0;34m\u001b[0m\u001b[0;34m\u001b[0m\u001b[0m\n\u001b[0;32m---> 95\u001b[0;31m         return self._post_query('/user/spot/order', {\n\u001b[0m\u001b[1;32m     96\u001b[0m             \u001b[0;34m'pair'\u001b[0m\u001b[0;34m:\u001b[0m \u001b[0mpair\u001b[0m\u001b[0;34m,\u001b[0m\u001b[0;34m\u001b[0m\u001b[0;34m\u001b[0m\u001b[0m\n\u001b[1;32m     97\u001b[0m             \u001b[0;34m'price'\u001b[0m\u001b[0;34m:\u001b[0m \u001b[0mprice\u001b[0m\u001b[0;34m,\u001b[0m\u001b[0;34m\u001b[0m\u001b[0;34m\u001b[0m\u001b[0m\n",
      "\u001b[0;32m/anaconda3/envs/bitcoin/lib/python3.9/site-packages/python_bitbankcc/private_api.py\u001b[0m in \u001b[0;36m_post_query\u001b[0;34m(self, path, query)\u001b[0m\n\u001b[1;32m     74\u001b[0m         \u001b[0muri\u001b[0m \u001b[0;34m=\u001b[0m \u001b[0mself\u001b[0m\u001b[0;34m.\u001b[0m\u001b[0mend_point\u001b[0m \u001b[0;34m+\u001b[0m \u001b[0mpath\u001b[0m\u001b[0;34m\u001b[0m\u001b[0;34m\u001b[0m\u001b[0m\n\u001b[1;32m     75\u001b[0m         \u001b[0mresponse\u001b[0m \u001b[0;34m=\u001b[0m \u001b[0mrequests\u001b[0m\u001b[0;34m.\u001b[0m\u001b[0mpost\u001b[0m\u001b[0;34m(\u001b[0m\u001b[0muri\u001b[0m\u001b[0;34m,\u001b[0m \u001b[0mdata\u001b[0m\u001b[0;34m=\u001b[0m\u001b[0mdata\u001b[0m\u001b[0;34m,\u001b[0m \u001b[0mheaders\u001b[0m\u001b[0;34m=\u001b[0m\u001b[0mheaders\u001b[0m\u001b[0;34m)\u001b[0m\u001b[0;34m\u001b[0m\u001b[0;34m\u001b[0m\u001b[0m\n\u001b[0;32m---> 76\u001b[0;31m         \u001b[0;32mreturn\u001b[0m \u001b[0merror_parser\u001b[0m\u001b[0;34m(\u001b[0m\u001b[0mresponse\u001b[0m\u001b[0;34m.\u001b[0m\u001b[0mjson\u001b[0m\u001b[0;34m(\u001b[0m\u001b[0;34m)\u001b[0m\u001b[0;34m)\u001b[0m\u001b[0;34m\u001b[0m\u001b[0;34m\u001b[0m\u001b[0m\n\u001b[0m\u001b[1;32m     77\u001b[0m \u001b[0;34m\u001b[0m\u001b[0m\n\u001b[1;32m     78\u001b[0m     \u001b[0;32mdef\u001b[0m \u001b[0mget_asset\u001b[0m\u001b[0;34m(\u001b[0m\u001b[0mself\u001b[0m\u001b[0;34m)\u001b[0m\u001b[0;34m:\u001b[0m\u001b[0;34m\u001b[0m\u001b[0;34m\u001b[0m\u001b[0m\n",
      "\u001b[0;32m/anaconda3/envs/bitcoin/lib/python3.9/site-packages/python_bitbankcc/utils.py\u001b[0m in \u001b[0;36merror_parser\u001b[0;34m(json_dict)\u001b[0m\n\u001b[1;32m     31\u001b[0m         \u001b[0mcontents\u001b[0m \u001b[0;34m=\u001b[0m \u001b[0mERROR_CODES\u001b[0m\u001b[0;34m[\u001b[0m\u001b[0mcode\u001b[0m\u001b[0;34m]\u001b[0m \u001b[0;32mif\u001b[0m \u001b[0mcode\u001b[0m \u001b[0;32min\u001b[0m \u001b[0mERROR_CODES\u001b[0m \u001b[0;32melse\u001b[0m \u001b[0;34m'不明なエラーです。サポートにお問い合わせ下さい'\u001b[0m\u001b[0;34m\u001b[0m\u001b[0;34m\u001b[0m\u001b[0m\n\u001b[1;32m     32\u001b[0m         \u001b[0mmessage\u001b[0m \u001b[0;34m=\u001b[0m \u001b[0;34m'エラーコード: '\u001b[0m \u001b[0;34m+\u001b[0m \u001b[0mcode\u001b[0m \u001b[0;34m+\u001b[0m \u001b[0;34m' 内容: '\u001b[0m \u001b[0;34m+\u001b[0m \u001b[0mcontents\u001b[0m\u001b[0;34m\u001b[0m\u001b[0;34m\u001b[0m\u001b[0m\n\u001b[0;32m---> 33\u001b[0;31m         \u001b[0;32mraise\u001b[0m \u001b[0mException\u001b[0m\u001b[0;34m(\u001b[0m\u001b[0mmessage\u001b[0m\u001b[0;34m)\u001b[0m\u001b[0;34m\u001b[0m\u001b[0;34m\u001b[0m\u001b[0m\n\u001b[0m\u001b[1;32m     34\u001b[0m \u001b[0;34m\u001b[0m\u001b[0m\n\u001b[1;32m     35\u001b[0m ERROR_CODES = {\n",
      "\u001b[0;31mException\u001b[0m: エラーコード: 60002 内容: 成行買い注文の数量上限を上回っています"
     ]
    }
   ],
   "source": [
    "t = Trade(1)"
   ]
  },
  {
   "cell_type": "code",
   "execution_count": 87,
   "metadata": {},
   "outputs": [
    {
     "ename": "Exception",
     "evalue": "エラーコード: 60002 内容: 成行買い注文の数量上限を上回っています",
     "output_type": "error",
     "traceback": [
      "\u001b[0;31m---------------------------------------------------------------------------\u001b[0m",
      "\u001b[0;31mException\u001b[0m                                 Traceback (most recent call last)",
      "\u001b[0;32m<ipython-input-87-ec24713d5335>\u001b[0m in \u001b[0;36m<module>\u001b[0;34m\u001b[0m\n\u001b[0;32m----> 1\u001b[0;31m \u001b[0mbuy_or_sell\u001b[0m\u001b[0;34m(\u001b[0m\u001b[0mbuy_sell\u001b[0m\u001b[0;34m=\u001b[0m\u001b[0;36m1\u001b[0m\u001b[0;34m,\u001b[0m\u001b[0mprice\u001b[0m\u001b[0;34m=\u001b[0m\u001b[0;36m10000\u001b[0m\u001b[0;34m)\u001b[0m\u001b[0;34m\u001b[0m\u001b[0;34m\u001b[0m\u001b[0m\n\u001b[0m",
      "\u001b[0;32m<ipython-input-86-a4ed822d6b86>\u001b[0m in \u001b[0;36mbuy_or_sell\u001b[0;34m(buy_sell, price, pair, amount)\u001b[0m\n\u001b[1;32m      1\u001b[0m \u001b[0;32mdef\u001b[0m \u001b[0mbuy_or_sell\u001b[0m\u001b[0;34m(\u001b[0m\u001b[0mbuy_sell\u001b[0m\u001b[0;34m,\u001b[0m \u001b[0mprice\u001b[0m\u001b[0;34m,\u001b[0m \u001b[0mpair\u001b[0m\u001b[0;34m=\u001b[0m\u001b[0;34m'eth_jpy'\u001b[0m\u001b[0;34m,\u001b[0m \u001b[0mamount\u001b[0m\u001b[0;34m=\u001b[0m\u001b[0;34m'0.0001'\u001b[0m\u001b[0;34m)\u001b[0m\u001b[0;34m:\u001b[0m\u001b[0;34m\u001b[0m\u001b[0;34m\u001b[0m\u001b[0m\n\u001b[1;32m      2\u001b[0m     \u001b[0mbuy_sell\u001b[0m \u001b[0;34m=\u001b[0m \u001b[0;34m'buy'\u001b[0m \u001b[0;32mif\u001b[0m \u001b[0mbuy_sell\u001b[0m\u001b[0;34m==\u001b[0m\u001b[0;36m1\u001b[0m \u001b[0;32melse\u001b[0m \u001b[0;34m'sell'\u001b[0m \u001b[0;32mif\u001b[0m \u001b[0mbuy_sell\u001b[0m\u001b[0;34m==\u001b[0m\u001b[0;36m2\u001b[0m \u001b[0;32melse\u001b[0m \u001b[0;34m'None'\u001b[0m\u001b[0;34m\u001b[0m\u001b[0;34m\u001b[0m\u001b[0m\n\u001b[0;32m----> 3\u001b[0;31m     value = prv.order(\n\u001b[0m\u001b[1;32m      4\u001b[0m        \u001b[0mpair\u001b[0m\u001b[0;34m,\u001b[0m \u001b[0;31m# ペア\u001b[0m\u001b[0;34m\u001b[0m\u001b[0;34m\u001b[0m\u001b[0m\n\u001b[1;32m      5\u001b[0m        \u001b[0mprice\u001b[0m\u001b[0;34m,\u001b[0m \u001b[0;31m# 価格\u001b[0m\u001b[0;34m\u001b[0m\u001b[0;34m\u001b[0m\u001b[0m\n",
      "\u001b[0;32m/anaconda3/envs/bitcoin/lib/python3.9/site-packages/python_bitbankcc/private_api.py\u001b[0m in \u001b[0;36morder\u001b[0;34m(self, pair, price, amount, side, order_type)\u001b[0m\n\u001b[1;32m     93\u001b[0m \u001b[0;34m\u001b[0m\u001b[0m\n\u001b[1;32m     94\u001b[0m     \u001b[0;32mdef\u001b[0m \u001b[0morder\u001b[0m\u001b[0;34m(\u001b[0m\u001b[0mself\u001b[0m\u001b[0;34m,\u001b[0m \u001b[0mpair\u001b[0m\u001b[0;34m,\u001b[0m \u001b[0mprice\u001b[0m\u001b[0;34m,\u001b[0m \u001b[0mamount\u001b[0m\u001b[0;34m,\u001b[0m \u001b[0mside\u001b[0m\u001b[0;34m,\u001b[0m \u001b[0morder_type\u001b[0m\u001b[0;34m)\u001b[0m\u001b[0;34m:\u001b[0m\u001b[0;34m\u001b[0m\u001b[0;34m\u001b[0m\u001b[0m\n\u001b[0;32m---> 95\u001b[0;31m         return self._post_query('/user/spot/order', {\n\u001b[0m\u001b[1;32m     96\u001b[0m             \u001b[0;34m'pair'\u001b[0m\u001b[0;34m:\u001b[0m \u001b[0mpair\u001b[0m\u001b[0;34m,\u001b[0m\u001b[0;34m\u001b[0m\u001b[0;34m\u001b[0m\u001b[0m\n\u001b[1;32m     97\u001b[0m             \u001b[0;34m'price'\u001b[0m\u001b[0;34m:\u001b[0m \u001b[0mprice\u001b[0m\u001b[0;34m,\u001b[0m\u001b[0;34m\u001b[0m\u001b[0;34m\u001b[0m\u001b[0m\n",
      "\u001b[0;32m/anaconda3/envs/bitcoin/lib/python3.9/site-packages/python_bitbankcc/private_api.py\u001b[0m in \u001b[0;36m_post_query\u001b[0;34m(self, path, query)\u001b[0m\n\u001b[1;32m     74\u001b[0m         \u001b[0muri\u001b[0m \u001b[0;34m=\u001b[0m \u001b[0mself\u001b[0m\u001b[0;34m.\u001b[0m\u001b[0mend_point\u001b[0m \u001b[0;34m+\u001b[0m \u001b[0mpath\u001b[0m\u001b[0;34m\u001b[0m\u001b[0;34m\u001b[0m\u001b[0m\n\u001b[1;32m     75\u001b[0m         \u001b[0mresponse\u001b[0m \u001b[0;34m=\u001b[0m \u001b[0mrequests\u001b[0m\u001b[0;34m.\u001b[0m\u001b[0mpost\u001b[0m\u001b[0;34m(\u001b[0m\u001b[0muri\u001b[0m\u001b[0;34m,\u001b[0m \u001b[0mdata\u001b[0m\u001b[0;34m=\u001b[0m\u001b[0mdata\u001b[0m\u001b[0;34m,\u001b[0m \u001b[0mheaders\u001b[0m\u001b[0;34m=\u001b[0m\u001b[0mheaders\u001b[0m\u001b[0;34m)\u001b[0m\u001b[0;34m\u001b[0m\u001b[0;34m\u001b[0m\u001b[0m\n\u001b[0;32m---> 76\u001b[0;31m         \u001b[0;32mreturn\u001b[0m \u001b[0merror_parser\u001b[0m\u001b[0;34m(\u001b[0m\u001b[0mresponse\u001b[0m\u001b[0;34m.\u001b[0m\u001b[0mjson\u001b[0m\u001b[0;34m(\u001b[0m\u001b[0;34m)\u001b[0m\u001b[0;34m)\u001b[0m\u001b[0;34m\u001b[0m\u001b[0;34m\u001b[0m\u001b[0m\n\u001b[0m\u001b[1;32m     77\u001b[0m \u001b[0;34m\u001b[0m\u001b[0m\n\u001b[1;32m     78\u001b[0m     \u001b[0;32mdef\u001b[0m \u001b[0mget_asset\u001b[0m\u001b[0;34m(\u001b[0m\u001b[0mself\u001b[0m\u001b[0;34m)\u001b[0m\u001b[0;34m:\u001b[0m\u001b[0;34m\u001b[0m\u001b[0;34m\u001b[0m\u001b[0m\n",
      "\u001b[0;32m/anaconda3/envs/bitcoin/lib/python3.9/site-packages/python_bitbankcc/utils.py\u001b[0m in \u001b[0;36merror_parser\u001b[0;34m(json_dict)\u001b[0m\n\u001b[1;32m     31\u001b[0m         \u001b[0mcontents\u001b[0m \u001b[0;34m=\u001b[0m \u001b[0mERROR_CODES\u001b[0m\u001b[0;34m[\u001b[0m\u001b[0mcode\u001b[0m\u001b[0;34m]\u001b[0m \u001b[0;32mif\u001b[0m \u001b[0mcode\u001b[0m \u001b[0;32min\u001b[0m \u001b[0mERROR_CODES\u001b[0m \u001b[0;32melse\u001b[0m \u001b[0;34m'不明なエラーです。サポートにお問い合わせ下さい'\u001b[0m\u001b[0;34m\u001b[0m\u001b[0;34m\u001b[0m\u001b[0m\n\u001b[1;32m     32\u001b[0m         \u001b[0mmessage\u001b[0m \u001b[0;34m=\u001b[0m \u001b[0;34m'エラーコード: '\u001b[0m \u001b[0;34m+\u001b[0m \u001b[0mcode\u001b[0m \u001b[0;34m+\u001b[0m \u001b[0;34m' 内容: '\u001b[0m \u001b[0;34m+\u001b[0m \u001b[0mcontents\u001b[0m\u001b[0;34m\u001b[0m\u001b[0;34m\u001b[0m\u001b[0m\n\u001b[0;32m---> 33\u001b[0;31m         \u001b[0;32mraise\u001b[0m \u001b[0mException\u001b[0m\u001b[0;34m(\u001b[0m\u001b[0mmessage\u001b[0m\u001b[0;34m)\u001b[0m\u001b[0;34m\u001b[0m\u001b[0;34m\u001b[0m\u001b[0m\n\u001b[0m\u001b[1;32m     34\u001b[0m \u001b[0;34m\u001b[0m\u001b[0m\n\u001b[1;32m     35\u001b[0m ERROR_CODES = {\n",
      "\u001b[0;31mException\u001b[0m: エラーコード: 60002 内容: 成行買い注文の数量上限を上回っています"
     ]
    }
   ],
   "source": [
    "buy_or_sell(buy_sell=1,price=10000)"
   ]
  },
  {
   "cell_type": "code",
   "execution_count": 25,
   "metadata": {},
   "outputs": [],
   "source": [
    "# 保存してあるキーを読み込み\n",
    "f = open('../key/apikey.txt', 'r', encoding='UTF-8')\n",
    "api_key = f.read()\n",
    "f.close()\n",
    "f = open('../key/secretkey.txt', 'r', encoding='UTF-8')\n",
    "secret_key = f.read()\n",
    "f.close()"
   ]
  },
  {
   "cell_type": "code",
   "execution_count": 59,
   "metadata": {},
   "outputs": [
    {
     "name": "stdout",
     "output_type": "stream",
     "text": [
      "通貨名：eth\n",
      "保有量：0.15580000\n",
      "ロックされている量：0.00000000\n",
      "利用可能な量：0.15580000\n",
      "引き出し手数料：0.00500000\n"
     ]
    }
   ],
   "source": [
    "# APIキー，シークレットの設定\n",
    "API_KEY = api_key\n",
    "API_SECRET = secret_key\n",
    "# privte API classのオブジェクトを取得\n",
    "prv = python_bitbankcc.private(API_KEY, API_SECRET)\n",
    "\n",
    "# アセット一覧の取得\n",
    "value = prv.get_asset()\n",
    "\n",
    "# アセット情報の一例\n",
    "asset_ex = value['assets'][4]\n",
    "print('通貨名：' + asset_ex['asset'])\n",
    "print('保有量：' + asset_ex['onhand_amount'])\n",
    "print('ロックされている量：' + asset_ex['locked_amount'])\n",
    "print('利用可能な量：' + asset_ex['free_amount'])\n",
    "print('引き出し手数料：' + asset_ex['withdrawal_fee'])"
   ]
  },
  {
   "cell_type": "code",
   "execution_count": 26,
   "metadata": {},
   "outputs": [
    {
     "name": "stdout",
     "output_type": "stream",
     "text": [
      "通貨名：eth\n",
      "保有量：0.15580000\n",
      "ロックされている量：0.00000000\n",
      "利用可能な量：0.15580000\n",
      "引き出し手数料：0.00500000\n"
     ]
    }
   ],
   "source": [
    "# APIキー，シークレットの設定\n",
    "API_KEY = api_key\n",
    "API_SECRET = secret_key\n",
    "# privte API classのオブジェクトを取得\n",
    "prv = python_bitbankcc.private(API_KEY, API_SECRET)\n",
    "\n",
    "# アセット一覧の取得\n",
    "value = prv.get_asset()\n",
    "\n",
    "# アセット情報の一例\n",
    "asset_ex = value['assets'][4]\n",
    "print('通貨名：' + asset_ex['asset'])\n",
    "print('保有量：' + asset_ex['onhand_amount'])\n",
    "print('ロックされている量：' + asset_ex['locked_amount'])\n",
    "print('利用可能な量：' + asset_ex['free_amount'])\n",
    "print('引き出し手数料：' + asset_ex['withdrawal_fee'])"
   ]
  },
  {
   "cell_type": "code",
   "execution_count": 34,
   "metadata": {},
   "outputs": [
    {
     "name": "stdout",
     "output_type": "stream",
     "text": [
      "last:136653\n",
      "sell:136775\n",
      "buy:136654\n"
     ]
    }
   ],
   "source": [
    "# public API classのオブジェクトを取得\n",
    "pub = python_bitbankcc.public()\n",
    "\n",
    "# ティッカー情報を取得\n",
    "value = pub.get_ticker( 'eth_jpy' )\n",
    "\n",
    "# 最近の約定価格\n",
    "print('last:' + value['last'])\n",
    "# 現在の売り注文の最安値\n",
    "print('sell:' + value['sell'])\n",
    "# 現在の買い注文の最安値\n",
    "print('buy:' + value['buy'])"
   ]
  },
  {
   "cell_type": "code",
   "execution_count": 48,
   "metadata": {},
   "outputs": [
    {
     "data": {
      "text/plain": [
       "{'orders': []}"
      ]
     },
     "execution_count": 48,
     "metadata": {},
     "output_type": "execute_result"
    }
   ],
   "source": [
    "# private API classのオブジェクトを取得\n",
    "prv = python_bitbankcc.private(API_KEY, API_SECRET)\n",
    "# ユーザーのアクティブな注文を全て取得\n",
    "value = prv.get_active_orders(\n",
    "   'eth_jpy' # ペア\n",
    ")\n",
    "value"
   ]
  },
  {
   "cell_type": "code",
   "execution_count": 54,
   "metadata": {},
   "outputs": [
    {
     "data": {
      "text/plain": [
       "{'asset': 'eth',\n",
       " 'amount_precision': 8,\n",
       " 'onhand_amount': '0.15580000',\n",
       " 'locked_amount': '0.00000000',\n",
       " 'free_amount': '0.15580000',\n",
       " 'stop_deposit': False,\n",
       " 'stop_withdrawal': False,\n",
       " 'withdrawal_fee': '0.00500000'}"
      ]
     },
     "execution_count": 54,
     "metadata": {},
     "output_type": "execute_result"
    }
   ],
   "source": [
    "# ユーザーのアセット(資産)情報を取得\n",
    "value = prv.get_asset()\n",
    "value[\"assets\"][4]"
   ]
  },
  {
   "cell_type": "code",
   "execution_count": 50,
   "metadata": {},
   "outputs": [
    {
     "name": "stdout",
     "output_type": "stream",
     "text": [
      "{\"order_id\": 12247121638, \"pair\": \"eth_jpy\", \"side\": \"buy\", \"type\": \"market\", \"start_amount\": \"0.0001\", \"remaining_amount\": \"0.0001\", \"executed_amount\": \"0.0000\", \"average_price\": \"0\", \"ordered_at\": 1611385919554, \"status\": \"UNFILLED\"}\n"
     ]
    }
   ],
   "source": [
    "# 注文する\n",
    "value = prv.order(\n",
    "   'eth_jpy', # ペア\n",
    "   '120000', # 価格\n",
    "   '0.0001', # 注文枚数\n",
    "   'buy', # 注文サイド\n",
    "   'market' # 注文タイプ\n",
    ")\n",
    "print(json.dumps(value))\n"
   ]
  },
  {
   "cell_type": "code",
   "execution_count": 52,
   "metadata": {},
   "outputs": [
    {
     "ename": "Exception",
     "evalue": "エラーコード: 50027 内容: 不明なエラーです。サポートにお問い合わせ下さい",
     "output_type": "error",
     "traceback": [
      "\u001b[0;31m---------------------------------------------------------------------------\u001b[0m",
      "\u001b[0;31mException\u001b[0m                                 Traceback (most recent call last)",
      "\u001b[0;32m<ipython-input-52-44b8f0a3ead0>\u001b[0m in \u001b[0;36m<module>\u001b[0;34m\u001b[0m\n\u001b[1;32m      1\u001b[0m \u001b[0;31m# 注文をキャンセルする\u001b[0m\u001b[0;34m\u001b[0m\u001b[0;34m\u001b[0m\u001b[0;34m\u001b[0m\u001b[0m\n\u001b[0;32m----> 2\u001b[0;31m value = prv.cancel_order(\n\u001b[0m\u001b[1;32m      3\u001b[0m    \u001b[0;34m'eth_jpy'\u001b[0m\u001b[0;34m,\u001b[0m \u001b[0;31m# ペア\u001b[0m\u001b[0;34m\u001b[0m\u001b[0;34m\u001b[0m\u001b[0m\n\u001b[1;32m      4\u001b[0m    \u001b[0;34m'12247121638'\u001b[0m \u001b[0;31m# 注文ID\u001b[0m\u001b[0;34m\u001b[0m\u001b[0;34m\u001b[0m\u001b[0m\n\u001b[1;32m      5\u001b[0m )\n",
      "\u001b[0;32m/anaconda3/envs/bitcoin/lib/python3.9/site-packages/python_bitbankcc/private_api.py\u001b[0m in \u001b[0;36mcancel_order\u001b[0;34m(self, pair, order_id)\u001b[0m\n\u001b[1;32m    102\u001b[0m \u001b[0;34m\u001b[0m\u001b[0m\n\u001b[1;32m    103\u001b[0m     \u001b[0;32mdef\u001b[0m \u001b[0mcancel_order\u001b[0m\u001b[0;34m(\u001b[0m\u001b[0mself\u001b[0m\u001b[0;34m,\u001b[0m \u001b[0mpair\u001b[0m\u001b[0;34m,\u001b[0m \u001b[0morder_id\u001b[0m\u001b[0;34m)\u001b[0m\u001b[0;34m:\u001b[0m\u001b[0;34m\u001b[0m\u001b[0;34m\u001b[0m\u001b[0m\n\u001b[0;32m--> 104\u001b[0;31m         return self._post_query('/user/spot/cancel_order', {\n\u001b[0m\u001b[1;32m    105\u001b[0m             \u001b[0;34m'pair'\u001b[0m\u001b[0;34m:\u001b[0m \u001b[0mpair\u001b[0m\u001b[0;34m,\u001b[0m\u001b[0;34m\u001b[0m\u001b[0;34m\u001b[0m\u001b[0m\n\u001b[1;32m    106\u001b[0m             \u001b[0;34m'order_id'\u001b[0m\u001b[0;34m:\u001b[0m \u001b[0morder_id\u001b[0m\u001b[0;34m\u001b[0m\u001b[0;34m\u001b[0m\u001b[0m\n",
      "\u001b[0;32m/anaconda3/envs/bitcoin/lib/python3.9/site-packages/python_bitbankcc/private_api.py\u001b[0m in \u001b[0;36m_post_query\u001b[0;34m(self, path, query)\u001b[0m\n\u001b[1;32m     74\u001b[0m         \u001b[0muri\u001b[0m \u001b[0;34m=\u001b[0m \u001b[0mself\u001b[0m\u001b[0;34m.\u001b[0m\u001b[0mend_point\u001b[0m \u001b[0;34m+\u001b[0m \u001b[0mpath\u001b[0m\u001b[0;34m\u001b[0m\u001b[0;34m\u001b[0m\u001b[0m\n\u001b[1;32m     75\u001b[0m         \u001b[0mresponse\u001b[0m \u001b[0;34m=\u001b[0m \u001b[0mrequests\u001b[0m\u001b[0;34m.\u001b[0m\u001b[0mpost\u001b[0m\u001b[0;34m(\u001b[0m\u001b[0muri\u001b[0m\u001b[0;34m,\u001b[0m \u001b[0mdata\u001b[0m\u001b[0;34m=\u001b[0m\u001b[0mdata\u001b[0m\u001b[0;34m,\u001b[0m \u001b[0mheaders\u001b[0m\u001b[0;34m=\u001b[0m\u001b[0mheaders\u001b[0m\u001b[0;34m)\u001b[0m\u001b[0;34m\u001b[0m\u001b[0;34m\u001b[0m\u001b[0m\n\u001b[0;32m---> 76\u001b[0;31m         \u001b[0;32mreturn\u001b[0m \u001b[0merror_parser\u001b[0m\u001b[0;34m(\u001b[0m\u001b[0mresponse\u001b[0m\u001b[0;34m.\u001b[0m\u001b[0mjson\u001b[0m\u001b[0;34m(\u001b[0m\u001b[0;34m)\u001b[0m\u001b[0;34m)\u001b[0m\u001b[0;34m\u001b[0m\u001b[0;34m\u001b[0m\u001b[0m\n\u001b[0m\u001b[1;32m     77\u001b[0m \u001b[0;34m\u001b[0m\u001b[0m\n\u001b[1;32m     78\u001b[0m     \u001b[0;32mdef\u001b[0m \u001b[0mget_asset\u001b[0m\u001b[0;34m(\u001b[0m\u001b[0mself\u001b[0m\u001b[0;34m)\u001b[0m\u001b[0;34m:\u001b[0m\u001b[0;34m\u001b[0m\u001b[0;34m\u001b[0m\u001b[0m\n",
      "\u001b[0;32m/anaconda3/envs/bitcoin/lib/python3.9/site-packages/python_bitbankcc/utils.py\u001b[0m in \u001b[0;36merror_parser\u001b[0;34m(json_dict)\u001b[0m\n\u001b[1;32m     31\u001b[0m         \u001b[0mcontents\u001b[0m \u001b[0;34m=\u001b[0m \u001b[0mERROR_CODES\u001b[0m\u001b[0;34m[\u001b[0m\u001b[0mcode\u001b[0m\u001b[0;34m]\u001b[0m \u001b[0;32mif\u001b[0m \u001b[0mcode\u001b[0m \u001b[0;32min\u001b[0m \u001b[0mERROR_CODES\u001b[0m \u001b[0;32melse\u001b[0m \u001b[0;34m'不明なエラーです。サポートにお問い合わせ下さい'\u001b[0m\u001b[0;34m\u001b[0m\u001b[0;34m\u001b[0m\u001b[0m\n\u001b[1;32m     32\u001b[0m         \u001b[0mmessage\u001b[0m \u001b[0;34m=\u001b[0m \u001b[0;34m'エラーコード: '\u001b[0m \u001b[0;34m+\u001b[0m \u001b[0mcode\u001b[0m \u001b[0;34m+\u001b[0m \u001b[0;34m' 内容: '\u001b[0m \u001b[0;34m+\u001b[0m \u001b[0mcontents\u001b[0m\u001b[0;34m\u001b[0m\u001b[0;34m\u001b[0m\u001b[0m\n\u001b[0;32m---> 33\u001b[0;31m         \u001b[0;32mraise\u001b[0m \u001b[0mException\u001b[0m\u001b[0;34m(\u001b[0m\u001b[0mmessage\u001b[0m\u001b[0;34m)\u001b[0m\u001b[0;34m\u001b[0m\u001b[0;34m\u001b[0m\u001b[0m\n\u001b[0m\u001b[1;32m     34\u001b[0m \u001b[0;34m\u001b[0m\u001b[0m\n\u001b[1;32m     35\u001b[0m ERROR_CODES = {\n",
      "\u001b[0;31mException\u001b[0m: エラーコード: 50027 内容: 不明なエラーです。サポートにお問い合わせ下さい"
     ]
    }
   ],
   "source": [
    "# 注文をキャンセルする\n",
    "value = prv.cancel_order(\n",
    "   'eth_jpy', # ペア\n",
    "   '12247121638' # 注文ID\n",
    ")\n",
    "print(json.dumps(value))"
   ]
  },
  {
   "cell_type": "code",
   "execution_count": 40,
   "metadata": {},
   "outputs": [
    {
     "name": "stdout",
     "output_type": "stream",
     "text": [
      "last:130378\n",
      "sell:130426\n",
      "buy:130378\n"
     ]
    }
   ],
   "source": [
    "# public API classのオブジェクトを取得\n",
    "pub = python_bitbankcc.public()\n",
    "\n",
    "# ティッカー情報を取得\n",
    "value = pub.get_ticker( 'eth_jpy' )\n",
    "\n",
    "# 最近の約定価格\n",
    "print('last:' + value['last'])\n",
    "# 現在の売り注文の最安値\n",
    "print('sell:' + value['sell'])\n",
    "# 現在の買い注文の最安値\n",
    "print('buy:' + value['buy'])"
   ]
  },
  {
   "cell_type": "code",
   "execution_count": 5,
   "metadata": {},
   "outputs": [
    {
     "name": "stdout",
     "output_type": "stream",
     "text": [
      "{\"sell\": \"3945765\", \"buy\": \"3945551\", \"high\": \"4020798\", \"low\": \"3295962\", \"last\": \"3945960\", \"vol\": \"4341.2963\", \"timestamp\": 1611929401005}\n"
     ]
    }
   ],
   "source": [
    "import json\n",
    "# public API classのオブジェクトを取得\n",
    "pub = python_bitbankcc.public()\n",
    "\n",
    "# 現在の価格情報を取得\n",
    "value = pub.get_ticker(\n",
    "   'btc_jpy' # ペア\n",
    ")\n",
    "print(json.dumps(value))"
   ]
  },
  {
   "cell_type": "code",
   "execution_count": 29,
   "metadata": {},
   "outputs": [
    {
     "data": {
      "text/html": [
       "<div>\n",
       "<style scoped>\n",
       "    .dataframe tbody tr th:only-of-type {\n",
       "        vertical-align: middle;\n",
       "    }\n",
       "\n",
       "    .dataframe tbody tr th {\n",
       "        vertical-align: top;\n",
       "    }\n",
       "\n",
       "    .dataframe thead th {\n",
       "        text-align: right;\n",
       "    }\n",
       "</style>\n",
       "<table border=\"1\" class=\"dataframe\">\n",
       "  <thead>\n",
       "    <tr style=\"text-align: right;\">\n",
       "      <th></th>\n",
       "      <th>asks</th>\n",
       "      <th>bids</th>\n",
       "      <th>timestamp</th>\n",
       "      <th>sequenceId</th>\n",
       "    </tr>\n",
       "  </thead>\n",
       "  <tbody>\n",
       "    <tr>\n",
       "      <th>0</th>\n",
       "      <td>[3416511, 0.1796]</td>\n",
       "      <td>[3415969, 0.0001]</td>\n",
       "      <td>1611380672693</td>\n",
       "      <td>1568836733</td>\n",
       "    </tr>\n",
       "    <tr>\n",
       "      <th>1</th>\n",
       "      <td>[3416512, 1.9165]</td>\n",
       "      <td>[3415693, 0.0400]</td>\n",
       "      <td>1611380672693</td>\n",
       "      <td>1568836733</td>\n",
       "    </tr>\n",
       "    <tr>\n",
       "      <th>2</th>\n",
       "      <td>[3418124, 0.0300]</td>\n",
       "      <td>[3414875, 0.2198]</td>\n",
       "      <td>1611380672693</td>\n",
       "      <td>1568836733</td>\n",
       "    </tr>\n",
       "    <tr>\n",
       "      <th>3</th>\n",
       "      <td>[3418213, 0.7000]</td>\n",
       "      <td>[3414874, 0.1600]</td>\n",
       "      <td>1611380672693</td>\n",
       "      <td>1568836733</td>\n",
       "    </tr>\n",
       "    <tr>\n",
       "      <th>4</th>\n",
       "      <td>[3418214, 0.2900]</td>\n",
       "      <td>[3414085, 0.0001]</td>\n",
       "      <td>1611380672693</td>\n",
       "      <td>1568836733</td>\n",
       "    </tr>\n",
       "    <tr>\n",
       "      <th>...</th>\n",
       "      <td>...</td>\n",
       "      <td>...</td>\n",
       "      <td>...</td>\n",
       "      <td>...</td>\n",
       "    </tr>\n",
       "    <tr>\n",
       "      <th>195</th>\n",
       "      <td>[3571500, 0.0800]</td>\n",
       "      <td>[3188000, 0.0319]</td>\n",
       "      <td>1611380672693</td>\n",
       "      <td>1568836733</td>\n",
       "    </tr>\n",
       "    <tr>\n",
       "      <th>196</th>\n",
       "      <td>[3571966, 0.0004]</td>\n",
       "      <td>[3187172, 0.0001]</td>\n",
       "      <td>1611380672693</td>\n",
       "      <td>1568836733</td>\n",
       "    </tr>\n",
       "    <tr>\n",
       "      <th>197</th>\n",
       "      <td>[3574432, 0.0006]</td>\n",
       "      <td>[3185650, 0.0156]</td>\n",
       "      <td>1611380672693</td>\n",
       "      <td>1568836733</td>\n",
       "    </tr>\n",
       "    <tr>\n",
       "      <th>198</th>\n",
       "      <td>[3575000, 0.1000]</td>\n",
       "      <td>[3185242, 0.0215]</td>\n",
       "      <td>1611380672693</td>\n",
       "      <td>1568836733</td>\n",
       "    </tr>\n",
       "    <tr>\n",
       "      <th>199</th>\n",
       "      <td>[3576000, 0.9173]</td>\n",
       "      <td>[3185000, 0.0675]</td>\n",
       "      <td>1611380672693</td>\n",
       "      <td>1568836733</td>\n",
       "    </tr>\n",
       "  </tbody>\n",
       "</table>\n",
       "<p>200 rows × 4 columns</p>\n",
       "</div>"
      ],
      "text/plain": [
       "                  asks               bids      timestamp  sequenceId\n",
       "0    [3416511, 0.1796]  [3415969, 0.0001]  1611380672693  1568836733\n",
       "1    [3416512, 1.9165]  [3415693, 0.0400]  1611380672693  1568836733\n",
       "2    [3418124, 0.0300]  [3414875, 0.2198]  1611380672693  1568836733\n",
       "3    [3418213, 0.7000]  [3414874, 0.1600]  1611380672693  1568836733\n",
       "4    [3418214, 0.2900]  [3414085, 0.0001]  1611380672693  1568836733\n",
       "..                 ...                ...            ...         ...\n",
       "195  [3571500, 0.0800]  [3188000, 0.0319]  1611380672693  1568836733\n",
       "196  [3571966, 0.0004]  [3187172, 0.0001]  1611380672693  1568836733\n",
       "197  [3574432, 0.0006]  [3185650, 0.0156]  1611380672693  1568836733\n",
       "198  [3575000, 0.1000]  [3185242, 0.0215]  1611380672693  1568836733\n",
       "199  [3576000, 0.9173]  [3185000, 0.0675]  1611380672693  1568836733\n",
       "\n",
       "[200 rows x 4 columns]"
      ]
     },
     "execution_count": 29,
     "metadata": {},
     "output_type": "execute_result"
    }
   ],
   "source": [
    "# 直近の板情報を取得\n",
    "value = pub.get_depth(\n",
    "   'btc_jpy' # ペア\n",
    ")\n",
    "pd.DataFrame(value)"
   ]
  },
  {
   "cell_type": "code",
   "execution_count": 52,
   "metadata": {},
   "outputs": [
    {
     "data": {
      "text/html": [
       "<div>\n",
       "<style scoped>\n",
       "    .dataframe tbody tr th:only-of-type {\n",
       "        vertical-align: middle;\n",
       "    }\n",
       "\n",
       "    .dataframe tbody tr th {\n",
       "        vertical-align: top;\n",
       "    }\n",
       "\n",
       "    .dataframe thead th {\n",
       "        text-align: right;\n",
       "    }\n",
       "</style>\n",
       "<table border=\"1\" class=\"dataframe\">\n",
       "  <thead>\n",
       "    <tr style=\"text-align: right;\">\n",
       "      <th></th>\n",
       "      <th>transaction_id</th>\n",
       "      <th>side</th>\n",
       "      <th>price</th>\n",
       "      <th>amount</th>\n",
       "      <th>executed_at</th>\n",
       "    </tr>\n",
       "  </thead>\n",
       "  <tbody>\n",
       "    <tr>\n",
       "      <th>0</th>\n",
       "      <td>1006893233</td>\n",
       "      <td>buy</td>\n",
       "      <td>523998</td>\n",
       "      <td>0.0100</td>\n",
       "      <td>1584057600525</td>\n",
       "    </tr>\n",
       "    <tr>\n",
       "      <th>1</th>\n",
       "      <td>1006893237</td>\n",
       "      <td>buy</td>\n",
       "      <td>523997</td>\n",
       "      <td>0.0100</td>\n",
       "      <td>1584057601448</td>\n",
       "    </tr>\n",
       "    <tr>\n",
       "      <th>2</th>\n",
       "      <td>1006893238</td>\n",
       "      <td>sell</td>\n",
       "      <td>523005</td>\n",
       "      <td>0.0100</td>\n",
       "      <td>1584057601701</td>\n",
       "    </tr>\n",
       "    <tr>\n",
       "      <th>3</th>\n",
       "      <td>1006893239</td>\n",
       "      <td>sell</td>\n",
       "      <td>523005</td>\n",
       "      <td>0.0319</td>\n",
       "      <td>1584057602633</td>\n",
       "    </tr>\n",
       "    <tr>\n",
       "      <th>4</th>\n",
       "      <td>1006893242</td>\n",
       "      <td>sell</td>\n",
       "      <td>523005</td>\n",
       "      <td>0.1000</td>\n",
       "      <td>1584057603239</td>\n",
       "    </tr>\n",
       "    <tr>\n",
       "      <th>...</th>\n",
       "      <td>...</td>\n",
       "      <td>...</td>\n",
       "      <td>...</td>\n",
       "      <td>...</td>\n",
       "      <td>...</td>\n",
       "    </tr>\n",
       "    <tr>\n",
       "      <th>105311</th>\n",
       "      <td>1007173096</td>\n",
       "      <td>sell</td>\n",
       "      <td>623999</td>\n",
       "      <td>0.0001</td>\n",
       "      <td>1584143985866</td>\n",
       "    </tr>\n",
       "    <tr>\n",
       "      <th>105312</th>\n",
       "      <td>1007173097</td>\n",
       "      <td>sell</td>\n",
       "      <td>623999</td>\n",
       "      <td>0.0001</td>\n",
       "      <td>1584143986025</td>\n",
       "    </tr>\n",
       "    <tr>\n",
       "      <th>105313</th>\n",
       "      <td>1007173098</td>\n",
       "      <td>buy</td>\n",
       "      <td>624010</td>\n",
       "      <td>0.0040</td>\n",
       "      <td>1584143986860</td>\n",
       "    </tr>\n",
       "    <tr>\n",
       "      <th>105314</th>\n",
       "      <td>1007173099</td>\n",
       "      <td>sell</td>\n",
       "      <td>624009</td>\n",
       "      <td>0.0001</td>\n",
       "      <td>1584143987395</td>\n",
       "    </tr>\n",
       "    <tr>\n",
       "      <th>105315</th>\n",
       "      <td>1007173100</td>\n",
       "      <td>sell</td>\n",
       "      <td>623999</td>\n",
       "      <td>0.0049</td>\n",
       "      <td>1584143987395</td>\n",
       "    </tr>\n",
       "  </tbody>\n",
       "</table>\n",
       "<p>105316 rows × 5 columns</p>\n",
       "</div>"
      ],
      "text/plain": [
       "        transaction_id  side   price  amount    executed_at\n",
       "0           1006893233   buy  523998  0.0100  1584057600525\n",
       "1           1006893237   buy  523997  0.0100  1584057601448\n",
       "2           1006893238  sell  523005  0.0100  1584057601701\n",
       "3           1006893239  sell  523005  0.0319  1584057602633\n",
       "4           1006893242  sell  523005  0.1000  1584057603239\n",
       "...                ...   ...     ...     ...            ...\n",
       "105311      1007173096  sell  623999  0.0001  1584143985866\n",
       "105312      1007173097  sell  623999  0.0001  1584143986025\n",
       "105313      1007173098   buy  624010  0.0040  1584143986860\n",
       "105314      1007173099  sell  624009  0.0001  1584143987395\n",
       "105315      1007173100  sell  623999  0.0049  1584143987395\n",
       "\n",
       "[105316 rows x 5 columns]"
      ]
     },
     "execution_count": 52,
     "metadata": {},
     "output_type": "execute_result"
    }
   ],
   "source": [
    "# 指定した日にちの約定情報を取得\n",
    "value = pub.get_transactions(\n",
    "   'btc_jpy', # ペア\n",
    "   '20200313' # YYYYMMDD 型の日付\n",
    ")\n",
    "pd.DataFrame(value['transactions'])"
   ]
  },
  {
   "cell_type": "code",
   "execution_count": 3,
   "metadata": {},
   "outputs": [
    {
     "ename": "NameError",
     "evalue": "name 'pub' is not defined",
     "output_type": "error",
     "traceback": [
      "\u001b[0;31m---------------------------------------------------------------------------\u001b[0m",
      "\u001b[0;31mNameError\u001b[0m                                 Traceback (most recent call last)",
      "\u001b[0;32m<ipython-input-3-8aebf14ee80b>\u001b[0m in \u001b[0;36m<module>\u001b[0;34m\u001b[0m\n\u001b[1;32m      1\u001b[0m \u001b[0;31m# 蝋燭足チャートを取得\u001b[0m\u001b[0;34m\u001b[0m\u001b[0;34m\u001b[0m\u001b[0;34m\u001b[0m\u001b[0m\n\u001b[0;32m----> 2\u001b[0;31m value = pub.get_candlestick(\n\u001b[0m\u001b[1;32m      3\u001b[0m    \u001b[0;34m'btc_jpy'\u001b[0m\u001b[0;34m,\u001b[0m \u001b[0;31m# ペア\u001b[0m\u001b[0;34m\u001b[0m\u001b[0;34m\u001b[0m\u001b[0m\n\u001b[1;32m      4\u001b[0m    \u001b[0;34m'1min'\u001b[0m\u001b[0;34m,\u001b[0m \u001b[0;31m# タイプ\u001b[0m\u001b[0;34m\u001b[0m\u001b[0;34m\u001b[0m\u001b[0m\n\u001b[1;32m      5\u001b[0m    \u001b[0;34m'20200313'\u001b[0m \u001b[0;31m# YYYYMMDD 型の日付\u001b[0m\u001b[0;34m\u001b[0m\u001b[0;34m\u001b[0m\u001b[0m\n",
      "\u001b[0;31mNameError\u001b[0m: name 'pub' is not defined"
     ]
    }
   ],
   "source": [
    "\n",
    "# 蝋燭足チャートを取得\n",
    "value = pub.get_candlestick(\n",
    "   'btc_jpy', # ペア\n",
    "   '1min', # タイプ\n",
    "   '20200313' # YYYYMMDD 型の日付\n",
    ")\n",
    "ohlcv = value['candlestick'][0]['ohlcv']\n",
    "[ohlcv for n in range(len(ohlcv))]\n",
    "ohlcv"
   ]
  },
  {
   "cell_type": "code",
   "execution_count": null,
   "metadata": {},
   "outputs": [],
   "source": []
  }
 ],
 "metadata": {
  "kernelspec": {
   "display_name": "Python 3",
   "language": "python",
   "name": "python3"
  },
  "language_info": {
   "codemirror_mode": {
    "name": "ipython",
    "version": 3
   },
   "file_extension": ".py",
   "mimetype": "text/x-python",
   "name": "python",
   "nbconvert_exporter": "python",
   "pygments_lexer": "ipython3",
   "version": "3.8.5"
  }
 },
 "nbformat": 4,
 "nbformat_minor": 4
}
