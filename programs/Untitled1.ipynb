{
 "cells": [
  {
   "cell_type": "code",
   "execution_count": 50,
   "id": "fiscal-limit",
   "metadata": {},
   "outputs": [],
   "source": [
    "import re"
   ]
  },
  {
   "cell_type": "code",
   "execution_count": 51,
   "id": "combined-first",
   "metadata": {},
   "outputs": [],
   "source": [
    "def authentication(password):\n",
    "    f = open('../key/apikey.txt', 'r', encoding='UTF-8')\n",
    "    key1 = f.read()\n",
    "    f.close()\n",
    "    f = open('../key/secretkey.txt', 'r', encoding='UTF-8')\n",
    "    key2 = f.read()\n",
    "    f.close()\n",
    "    \n",
    "    pattern = '(\\d+)([a-z]*)'\n",
    "    nums = re.findall(pattern, key1)\n",
    "    key1 = ''.join([str(int(a[0])-password) + ('-' if a[1]=='' else a[1]) for a in nums])\n",
    "    \n",
    "    pattern = '([a-z]*)(\\d+)'\n",
    "    nums = re.findall(pattern, key2)\n",
    "    key2 = ''.join([a[0]+str(int(a[1])-password) for a in nums])\n",
    "    return key1, key2"
   ]
  },
  {
   "cell_type": "code",
   "execution_count": 52,
   "id": "altered-public",
   "metadata": {},
   "outputs": [
    {
     "data": {
      "text/plain": [
       "('23a6f0a8-1f3f4ced9f22-87207109fcfc',\n",
       " 'fe322adc5a422c808636c1fbbd9889d952c89a7f55de9e5153a7405068af7f52')"
      ]
     },
     "execution_count": 52,
     "metadata": {},
     "output_type": "execute_result"
    }
   ],
   "source": [
    "authentication(123)"
   ]
  },
  {
   "cell_type": "code",
   "execution_count": 41,
   "id": "induced-mountain",
   "metadata": {},
   "outputs": [],
   "source": [
    "key = 'fe322adc5a422c808636c1fbbd9889d952c89a7f55de9e5153a7405068af7f52'"
   ]
  },
  {
   "cell_type": "code",
   "execution_count": 42,
   "id": "important-federation",
   "metadata": {},
   "outputs": [],
   "source": [
    "pattern = '([a-z]*)(\\d+)'\n",
    "nums = re.findall(pattern, key)\n",
    "password = 123"
   ]
  },
  {
   "cell_type": "code",
   "execution_count": 43,
   "id": "considerable-summary",
   "metadata": {},
   "outputs": [
    {
     "data": {
      "text/plain": [
       "[('fe', '322'),\n",
       " ('adc', '5'),\n",
       " ('a', '422'),\n",
       " ('c', '808636'),\n",
       " ('c', '1'),\n",
       " ('fbbd', '9889'),\n",
       " ('d', '952'),\n",
       " ('c', '89'),\n",
       " ('a', '7'),\n",
       " ('f', '55'),\n",
       " ('de', '9'),\n",
       " ('e', '5153'),\n",
       " ('a', '7405068'),\n",
       " ('af', '7'),\n",
       " ('f', '52')]"
      ]
     },
     "execution_count": 43,
     "metadata": {},
     "output_type": "execute_result"
    }
   ],
   "source": [
    "nums"
   ]
  },
  {
   "cell_type": "code",
   "execution_count": 45,
   "id": "empty-level",
   "metadata": {},
   "outputs": [
    {
     "data": {
      "text/plain": [
       "'fe445adc128a545c808759c124fbbd10012d1075c212a130f178de132e5276a7405191af130f175'"
      ]
     },
     "execution_count": 45,
     "metadata": {},
     "output_type": "execute_result"
    }
   ],
   "source": [
    "''.join([a[0]+str(int(a[1])+password) for a in nums])"
   ]
  },
  {
   "cell_type": "code",
   "execution_count": null,
   "id": "demonstrated-sweet",
   "metadata": {},
   "outputs": [],
   "source": []
  },
  {
   "cell_type": "code",
   "execution_count": null,
   "id": "aboriginal-notebook",
   "metadata": {},
   "outputs": [],
   "source": []
  }
 ],
 "metadata": {
  "kernelspec": {
   "display_name": "Python 3",
   "language": "python",
   "name": "python3"
  },
  "language_info": {
   "codemirror_mode": {
    "name": "ipython",
    "version": 3
   },
   "file_extension": ".py",
   "mimetype": "text/x-python",
   "name": "python",
   "nbconvert_exporter": "python",
   "pygments_lexer": "ipython3",
   "version": "3.9.1"
  }
 },
 "nbformat": 4,
 "nbformat_minor": 5
}
